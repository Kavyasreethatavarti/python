{
 "cells": [
  {
   "cell_type": "markdown",
   "metadata": {},
   "source": [
    "### Concepts\n",
    "- Basics\n",
    "- Datatypes and Conversions\n",
    "- Control statements\n",
    "     - Conditional statements\n",
    "     - Looping statements\n",
    "- Functional Programming\n",
    "- Lists,Tuples and dictionaries\n",
    "- External Packages\n",
    "     - Math\n",
    "- Regular Expressions\n",
    "- File Handling\n",
    "     - Reading the file data\n",
    "     - Writing the file data\n",
    "     - Perform the operations on the file\n",
    "- OOPS\n",
    "    - class\n",
    "    - objects\n",
    "    - methods\n",
    "    - constructors\n",
    "    - Interface\n",
    "- Exception handling\n",
    "- List comprehension, Lamda Expressions"
   ]
  },
  {
   "cell_type": "markdown",
   "metadata": {},
   "source": [
    "### Functional Programming\n",
    "- Reduce the complex\n",
    "- Reusable block\n",
    "- Divides the lengthy program into sub blocks, so that it is easy for read\n",
    "- camel case(Fucntion name or variable name)"
   ]
  },
  {
   "cell_type": "code",
   "execution_count": null,
   "metadata": {},
   "outputs": [],
   "source": [
    "def function(<parameters>):\n",
    "    return"
   ]
  },
  {
   "cell_type": "code",
   "execution_count": 1,
   "metadata": {},
   "outputs": [
    {
     "name": "stdout",
     "output_type": "stream",
     "text": [
      "test() function\n"
     ]
    }
   ],
   "source": [
    "def test():\n",
    "    print(\"test() function\")\n",
    "    return\n",
    "test()"
   ]
  },
  {
   "cell_type": "code",
   "execution_count": 2,
   "metadata": {},
   "outputs": [
    {
     "data": {
      "text/plain": [
       "'Dhyanahita'"
      ]
     },
     "execution_count": 2,
     "metadata": {},
     "output_type": "execute_result"
    }
   ],
   "source": [
    "def istest():\n",
    "     return \"Dhyanahita\"\n",
    "istest()"
   ]
  },
  {
   "cell_type": "code",
   "execution_count": 3,
   "metadata": {},
   "outputs": [
    {
     "data": {
      "text/plain": [
       "[1, 2, 3]"
      ]
     },
     "execution_count": 3,
     "metadata": {},
     "output_type": "execute_result"
    }
   ],
   "source": [
    "def istestwork(x):\n",
    "    return x\n",
    "a=[1,2,3]\n",
    "istestwork(a)"
   ]
  },
  {
   "cell_type": "markdown",
   "metadata": {},
   "source": [
    "### coding standards\n",
    "- Variable Name\n",
    "- Function Name\n",
    "- Constructor Name\n",
    "- Class Name"
   ]
  },
  {
   "cell_type": "markdown",
   "metadata": {},
   "source": [
    "#### External packages: import statements- re,math,pandas,matplotlob....\n",
    "#### Regular Expression creating\n",
    "- Checking for Number\n",
    "- Checking for Lower case and Upper case\n",
    "- Checking for special Characters"
   ]
  },
  {
   "cell_type": "markdown",
   "metadata": {},
   "source": [
    "Try in browser\n",
    "https://www.regexpal.com/"
   ]
  },
  {
   "cell_type": "code",
   "execution_count": 4,
   "metadata": {},
   "outputs": [],
   "source": [
    "import re"
   ]
  },
  {
   "cell_type": "code",
   "execution_count": 9,
   "metadata": {},
   "outputs": [
    {
     "name": "stdout",
     "output_type": "stream",
     "text": [
      "True\n"
     ]
    }
   ],
   "source": [
    "def two_digit_match(n):\n",
    "    pattern='^[0-9]{2}$'\n",
    "    n=str(n)\n",
    "    if re.match(pattern,n):\n",
    "        return True\n",
    "    return False\n",
    "print(two_digit_match(12))"
   ]
  },
  {
   "cell_type": "code",
   "execution_count": 10,
   "metadata": {},
   "outputs": [
    {
     "name": "stdout",
     "output_type": "stream",
     "text": [
      "False\n"
     ]
    }
   ],
   "source": [
    "print(two_digit_match(152))"
   ]
  },
  {
   "cell_type": "code",
   "execution_count": 11,
   "metadata": {},
   "outputs": [
    {
     "name": "stdout",
     "output_type": "stream",
     "text": [
      "<class 'bool'>\n",
      "x\n"
     ]
    }
   ],
   "source": [
    "true=True\n",
    "print(type(true))\n",
    "if true:\n",
    "    print(\"x\")\n",
    "else:\n",
    "    print(\"y\")"
   ]
  },
  {
   "cell_type": "code",
   "execution_count": 12,
   "metadata": {},
   "outputs": [
    {
     "name": "stdout",
     "output_type": "stream",
     "text": [
      "True\n"
     ]
    }
   ],
   "source": [
    "# lower case  upper case\n",
    "# min-6,max-12\n",
    "def username_validate(uname):\n",
    "    pattern='^[a-z][a-z A-z]{5,11}$'\n",
    "    if re.match(pattern,uname):\n",
    "        return True\n",
    "    return False\n",
    "print(username_validate('tKavYA'))"
   ]
  },
  {
   "cell_type": "code",
   "execution_count": 13,
   "metadata": {},
   "outputs": [
    {
     "name": "stdout",
     "output_type": "stream",
     "text": [
      "False\n"
     ]
    }
   ],
   "source": [
    "print(username_validate('TKavYA'))"
   ]
  },
  {
   "cell_type": "code",
   "execution_count": 14,
   "metadata": {},
   "outputs": [
    {
     "name": "stdout",
     "output_type": "stream",
     "text": [
      "True\n"
     ]
    }
   ],
   "source": [
    "# validate username -DHS00123\n",
    "# DHS00120- DHS00999\n",
    "def username_validate(uname):\n",
    "    pattern='^[D][H][S][0][0][1-9][2-9][3-9]$'\n",
    "    if re.match(pattern,uname):\n",
    "        return True\n",
    "    return False\n",
    "print(username_validate('DHS00123'))"
   ]
  },
  {
   "cell_type": "code",
   "execution_count": 15,
   "metadata": {},
   "outputs": [
    {
     "name": "stdout",
     "output_type": "stream",
     "text": [
      "False\n"
     ]
    }
   ],
   "source": [
    "print(username_validate('DHS01120'))"
   ]
  },
  {
   "cell_type": "code",
   "execution_count": 16,
   "metadata": {},
   "outputs": [
    {
     "name": "stdout",
     "output_type": "stream",
     "text": [
      "False\n"
     ]
    }
   ],
   "source": [
    "print(username_validate('ABC99123'))"
   ]
  },
  {
   "cell_type": "code",
   "execution_count": 17,
   "metadata": {},
   "outputs": [],
   "source": [
    "### Validating indian mobile number\n",
    "# 9988776644\n",
    "# 09988776644\n",
    "# +91-9988776644"
   ]
  },
  {
   "cell_type": "code",
   "execution_count": 18,
   "metadata": {},
   "outputs": [],
   "source": [
    "# Username Validate\n",
    "# should need to contains one upper\n",
    "# case,6 Lower case m,1 digit"
   ]
  },
  {
   "cell_type": "markdown",
   "metadata": {},
   "source": [
    "### GITHUB -- GIT"
   ]
  },
  {
   "cell_type": "markdown",
   "metadata": {},
   "source": [
    "#### Step-1: Understand the Basics of Git"
   ]
  },
  {
   "cell_type": "markdown",
   "metadata": {},
   "source": [
    "1. present working directory \n",
    "    - pwd\n",
    "- To show files\n",
    "    - ls\n",
    "- To show all hidden files\n",
    "    - ls -a\n",
    "- change dir\n",
    "     - cd <foldername>\n",
    "     - To go back to previous directory\n",
    "     - cd .. or cd \n",
    "     - cd (Parent Folder) \n",
    "        - Eg:- cd Dektop/\n",
    "    \n",
    "- To create the Folder \n",
    "     - mkdir\n",
    "        - Eg:- mkdir Training\n",
    "    \n",
    "- To create a  File (.txt,.html,.java)\n",
    "     - touch \n",
    "        - Eg:- touch file1.txt\n",
    "    \n",
    "- To add the content\n",
    "     - Echo \n",
    "     - To erase and rewrite the data\n",
    "        - Eg:- echo \"Dhyanahita.org\" > file1.txt\n",
    "     - To append the data to existing data\n",
    "        - Eg:- echo \"Dhyanahita.org\" >> file1.txt\n",
    "\n",
    "- To display the content in the file\n",
    "     - cat\n",
    "        - Eg:- cat file1.txt\n",
    "- To remove the file\n",
    "     - rm \n",
    "         - Eg:- rm file2.txt\n",
    "     - for Forceful deletion\n",
    "          - Eg:- rm -f file2.txt\n",
    "- For help\n",
    "     - help\n",
    "         - Eg:- touch --help\n",
    "- To add multi line data\n",
    "    - Nano\n",
    "        - Eg:- nano file1.txt\n",
    "            - CTRL+X(used for exit)"
   ]
  },
  {
   "cell_type": "code",
   "execution_count": null,
   "metadata": {},
   "outputs": [],
   "source": []
  }
 ],
 "metadata": {
  "kernelspec": {
   "display_name": "Python 3",
   "language": "python",
   "name": "python3"
  },
  "language_info": {
   "codemirror_mode": {
    "name": "ipython",
    "version": 3
   },
   "file_extension": ".py",
   "mimetype": "text/x-python",
   "name": "python",
   "nbconvert_exporter": "python",
   "pygments_lexer": "ipython3",
   "version": "3.7.1"
  }
 },
 "nbformat": 4,
 "nbformat_minor": 4
}

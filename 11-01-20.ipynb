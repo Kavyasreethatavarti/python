{
 "cells": [
  {
   "cell_type": "markdown",
   "metadata": {},
   "source": [
    "### Write a Python program to concatenate following dictionaries to create a new one. \n",
    "- Input:\n",
    "     - dic1={1:10, 2:20}\n",
    "     - dic2={3:30, 4:40}\n",
    "     - dic3={5:50, 6:60}\n",
    "- Output:\n",
    "     - {1: 10, 2: 20, 3: 30, 4: 40, 5: 50, 6: 60}"
   ]
  },
  {
   "cell_type": "code",
   "execution_count": 1,
   "metadata": {},
   "outputs": [
    {
     "name": "stdout",
     "output_type": "stream",
     "text": [
      "{1: 10, 2: 20, 3: 30, 4: 40, 5: 50, 6: 60}\n"
     ]
    }
   ],
   "source": [
    "dic1={1:10, 2:20}\n",
    "dic2={3:30, 4:40}\n",
    "dic3={5:50,6:60}\n",
    "dic4={}\n",
    "for i in dic1,dic2,dic3:\n",
    "  dic4.update(i)\n",
    "print(dic4)"
   ]
  },
  {
   "cell_type": "markdown",
   "metadata": {},
   "source": [
    "### Write a Python program to check if a given key already exists in a dictionary.\n",
    "- Input:\n",
    "    - d = {1: 10, 2: 20, 3: 30, 4: 40, 5: 50, 6: 60}\n",
    "- Output: \n",
    "     - key exists/key not exists."
   ]
  },
  {
   "cell_type": "code",
   "execution_count": 2,
   "metadata": {},
   "outputs": [
    {
     "name": "stdout",
     "output_type": "stream",
     "text": [
      "key already exists\n"
     ]
    }
   ],
   "source": [
    "d = {1: 10, 2: 20, 3: 30, 4: 40, 5: 50, 6: 60}\n",
    "def keypresent(i):\n",
    "  if i in d:\n",
    "    print(\"key already exists\")\n",
    "  else:\n",
    "    print(\"key does not exists\")\n",
    "keypresent(6)"
   ]
  },
  {
   "cell_type": "markdown",
   "metadata": {},
   "source": [
    "### Example\n",
    "- Input: \n",
    "   - a = [\"abc\", \"def\", \"ghi\"]\n",
    "- Output:\n",
    "   - [['a', 'b', 'c'], ['d', 'e', 'f'], ['g', 'h', 'i']]"
   ]
  },
  {
   "cell_type": "code",
   "execution_count": 7,
   "metadata": {},
   "outputs": [
    {
     "name": "stdout",
     "output_type": "stream",
     "text": [
      "[['a', 'b', 'c'], ['d', 'e', 'f'], ['g', 'h', 'i']]\n"
     ]
    }
   ],
   "source": [
    "v=[\"abc\",\"def\",\"ghi\"]\n",
    "li=[]\n",
    "for i in v:\n",
    "    k=i.split()\n",
    "    for j in k:\n",
    "        y=list(j)\n",
    "    li.append(y)\n",
    "print(li)"
   ]
  },
  {
   "cell_type": "markdown",
   "metadata": {},
   "source": [
    "### The program must accept an integer N as the input. Need to print the output in the following    manner.\n",
    "- Input 1:                          -\n",
    "     - 145  \n",
    "- Output:\n",
    "     - Five Four One\n",
    "- Input 2:\n",
    "     - 123  \n",
    "- Output:\n",
    "     - Three two one"
   ]
  },
  {
   "cell_type": "code",
   "execution_count": 9,
   "metadata": {},
   "outputs": [
    {
     "name": "stdout",
     "output_type": "stream",
     "text": [
      "enter the number123\n",
      "321\n",
      "Three\n",
      "two\n",
      "one\n"
     ]
    }
   ],
   "source": [
    "n=int(input('enter the number'))\n",
    "reverse = 0.\n",
    "rev = 0  \n",
    "while(n > 0): \n",
    "    a = n % 10\n",
    "    rev = rev * 10 + a \n",
    "    n = n // 10       \n",
    "n1=str(rev)\n",
    "print(n1)\n",
    "for i in range(0,len(n1)):\n",
    "    if(n1[i]==\"1\"):\n",
    "        print(\"one\")\n",
    "    elif(n1[i]==\"2\"):\n",
    "        print(\"two\")\n",
    "    elif(n1[i]==\"3\"):\n",
    "        print(\"Three\")\n",
    "    elif(n1[i]==\"4\"):\n",
    "        print(\"Four\")\n",
    "    elif(n1[i]==\"5\"):\n",
    "        print(\"Five\")\n",
    "    elif(n1[i]==\"6\"):\n",
    "        print(\"Six\")\n",
    "    elif(n1[i]==\"7\"):\n",
    "        print(\"Seven\")\n",
    "    elif(n1[i]==\"8\"):\n",
    "        print(\"Eight\")\n",
    "    elif(n1[i]==\"9\"):\n",
    "        print(\"Nine\")\n",
    "    elif(n1[i]==\"0\"):\n",
    "        print(\"Zero\")"
   ]
  },
  {
   "cell_type": "markdown",
   "metadata": {},
   "source": [
    "### Split A Python List Into Evenly Sized Chunks\n",
    "- Input: x = [1,2,3,4,5,6,7,8,9]\n",
    "- Output  = [ (1, 2, 3), (4, 5, 6), (7, 8, 9) ]"
   ]
  },
  {
   "cell_type": "code",
   "execution_count": 23,
   "metadata": {},
   "outputs": [
    {
     "name": "stdout",
     "output_type": "stream",
     "text": [
      "[1, 2, 3]\n",
      "[4, 5, 6]\n",
      "[7, 8, 9]\n"
     ]
    }
   ],
   "source": [
    "l=[1,2,3,4,5,6,7,8,9]\n",
    "x=0\n",
    "y=9\n",
    "for i in range(x,y,3):\n",
    "    x=i\n",
    "    k=l[x:x+3]\n",
    "    y=list(k)\n",
    "    print(y)"
   ]
  },
  {
   "cell_type": "markdown",
   "metadata": {},
   "source": [
    "### Write a Python program to find the highest 3 values in a dictionary."
   ]
  },
  {
   "cell_type": "code",
   "execution_count": 25,
   "metadata": {},
   "outputs": [
    {
     "name": "stdout",
     "output_type": "stream",
     "text": [
      "[40, 50, 60]\n"
     ]
    }
   ],
   "source": [
    "d={1:10,2:20,3:30,4:40,5:50,6:60}\n",
    "y=d.values()\n",
    "k=sorted(y)\n",
    "print(k[3:6])"
   ]
  },
  {
   "cell_type": "markdown",
   "metadata": {},
   "source": [
    "### The program must accept an integer N as the input. Need to print the output in the following manner.\n",
    "-Example Input/Output 1:\n",
    "    - Input1:145\n",
    "    - Output:yes\n",
    "    - Input2:123\n",
    "    - Output:no"
   ]
  },
  {
   "cell_type": "code",
   "execution_count": 27,
   "metadata": {},
   "outputs": [
    {
     "name": "stdout",
     "output_type": "stream",
     "text": [
      "Enter a number:123\n",
      "NO\n"
     ]
    }
   ],
   "source": [
    "sum1=0\n",
    "num=int(input(\"Enter a number:\"))\n",
    "temp=num\n",
    "while(num):\n",
    "    i=1\n",
    "    f=1\n",
    "    r=num%10\n",
    "    while(i<=r):\n",
    "        f=f*i\n",
    "        i=i+1\n",
    "    sum1=sum1+f\n",
    "    num=num//10\n",
    "if(sum1==temp):\n",
    "    print(\"YES\")\n",
    "else:\n",
    "    print(\"NO\")"
   ]
  },
  {
   "cell_type": "markdown",
   "metadata": {},
   "source": [
    "### The program must accept an integer N as the input. Need to print the output in the following manner.\n",
    "- Boundary Condition(s):\n",
    "- Example:\n",
    "     - Input1: 1889\n",
    "     - Output:16\n",
    "     - Input2: 19872\n",
    "     - Output:10"
   ]
  },
  {
   "cell_type": "code",
   "execution_count": 1,
   "metadata": {},
   "outputs": [
    {
     "name": "stdout",
     "output_type": "stream",
     "text": [
      "16\n"
     ]
    }
   ],
   "source": [
    "n=1889\n",
    "l= [int(x) for x in str(n)] \n",
    "s=0\n",
    "for i in l:\n",
    "    if(i%2==0):\n",
    "        s=s+i\n",
    "print(s)"
   ]
  }
 ],
 "metadata": {
  "kernelspec": {
   "display_name": "Python 3",
   "language": "python",
   "name": "python3"
  },
  "language_info": {
   "codemirror_mode": {
    "name": "ipython",
    "version": 3
   },
   "file_extension": ".py",
   "mimetype": "text/x-python",
   "name": "python",
   "nbconvert_exporter": "python",
   "pygments_lexer": "ipython3",
   "version": "3.7.1"
  }
 },
 "nbformat": 4,
 "nbformat_minor": 2
}

{
 "cells": [
  {
   "cell_type": "markdown",
   "metadata": {},
   "source": [
    "### 09/01/20"
   ]
  },
  {
   "cell_type": "markdown",
   "metadata": {},
   "source": [
    "## Files and Packages\n",
    "### Files\n",
    "- Write the file data\n",
    "- Append the file data\n",
    "- Read the file data\n",
    "- Word count\n",
    "- Character count\n",
    "- Some specific examples on characters and words"
   ]
  },
  {
   "cell_type": "markdown",
   "metadata": {},
   "source": [
    "### File modes\n",
    "- w (If the file is not exists,then it will create the file and will put some to the file), If the file already exists then it is rewrite the existing file data.\n",
    "- a (If the file is not exists,then it will create the file and data will be written), If the file already exists then the data will be written from the last line."
   ]
  },
  {
   "cell_type": "code",
   "execution_count": 3,
   "metadata": {},
   "outputs": [
    {
     "name": "stdout",
     "output_type": "stream",
     "text": [
      "file is created and data has written to the file\n"
     ]
    }
   ],
   "source": [
    "def createfile(fileName):\n",
    "    f=open(fileName,'w')\n",
    "    for i in range(10):\n",
    "        f.write('This line')\n",
    "        #print(\"This %d Line\",i)\n",
    "    print(\"file is created and data has written to the file\")\n",
    "    return \n",
    "createfile('file1.txt')"
   ]
  },
  {
   "cell_type": "code",
   "execution_count": 4,
   "metadata": {},
   "outputs": [
    {
     "data": {
      "text/plain": [
       "'C:\\\\Users\\\\sivar'"
      ]
     },
     "execution_count": 4,
     "metadata": {},
     "output_type": "execute_result"
    }
   ],
   "source": [
    "pwd"
   ]
  },
  {
   "cell_type": "code",
   "execution_count": 5,
   "metadata": {},
   "outputs": [],
   "source": [
    "def testFileData(fileName):\n",
    "    f=open(fileName,'w')\n",
    "    f.write('New line data \\n')\n",
    "    return\n",
    "testFileData('file1.txt')"
   ]
  },
  {
   "cell_type": "code",
   "execution_count": 6,
   "metadata": {},
   "outputs": [
    {
     "name": "stdout",
     "output_type": "stream",
     "text": [
      "data is appended\n"
     ]
    }
   ],
   "source": [
    "def appendData(fileName):\n",
    "    f=open(fileName,'a')\n",
    "    f.write('Dhyanahita org')\n",
    "    print(\"data is appended\")\n",
    "    return\n",
    "appendData('file1.txt')"
   ]
  },
  {
   "cell_type": "code",
   "execution_count": 1,
   "metadata": {},
   "outputs": [
    {
     "name": "stdout",
     "output_type": "stream",
     "text": [
      "New line data \n",
      "Dhyanahita\n"
     ]
    }
   ],
   "source": [
    "def ReadFileData(fileName):\n",
    "    f=open(fileName,'r')\n",
    "    if f.mode=='r':\n",
    "        x=f.read() # var string\n",
    "        print(x)\n",
    "    else:\n",
    "        print(\"Error message!!\")\n",
    "    return\n",
    "ReadFileData('file1.txt')"
   ]
  },
  {
   "cell_type": "code",
   "execution_count": 2,
   "metadata": {},
   "outputs": [
    {
     "data": {
      "text/plain": [
       "4"
      ]
     },
     "execution_count": 2,
     "metadata": {},
     "output_type": "execute_result"
    }
   ],
   "source": [
    "# word count\n",
    "def wordcount(filename):\n",
    "    f=open(filename,'r')\n",
    "    if f.mode=='r':\n",
    "        x=f.read()\n",
    "        li=x.split()\n",
    "    return len(li)\n",
    "wordcount('file1.txt')    "
   ]
  },
  {
   "cell_type": "code",
   "execution_count": 3,
   "metadata": {},
   "outputs": [
    {
     "name": "stdout",
     "output_type": "stream",
     "text": [
      "['Welcome', 'to', 'the', 'world']\n",
      "4\n"
     ]
    }
   ],
   "source": [
    "li=[]\n",
    "s=\"Welcome to the world\"\n",
    "li=s.split()\n",
    "print(li)\n",
    "print(len(li))"
   ]
  },
  {
   "cell_type": "code",
   "execution_count": 13,
   "metadata": {},
   "outputs": [
    {
     "data": {
      "text/plain": [
       "2"
      ]
     },
     "execution_count": 13,
     "metadata": {},
     "output_type": "execute_result"
    }
   ],
   "source": [
    "# To count the repeated words\n",
    "def specificWordCount(filename,word):\n",
    "    li=[]\n",
    "    f=open(filename,'r')\n",
    "    if f.mode=='r':\n",
    "        x=f.read()\n",
    "        li=x.split()\n",
    "    cnt=li.count(word)\n",
    "    return cnt\n",
    "specificWordCount('file1.txt','Dhyanahita')"
   ]
  },
  {
   "cell_type": "code",
   "execution_count": 37,
   "metadata": {},
   "outputs": [
    {
     "data": {
      "text/plain": [
       "60"
      ]
     },
     "execution_count": 37,
     "metadata": {},
     "output_type": "execute_result"
    }
   ],
   "source": [
    "## to find count of characters\n",
    "def charcount(filename):\n",
    "    li=[]\n",
    "    f=open(filename,'r')\n",
    "    if f.mode=='r':\n",
    "        x=f.read()\n",
    "        l=list(x)\n",
    "    return len(l)\n",
    "charcount('file1.txt')    "
   ]
  },
  {
   "cell_type": "code",
   "execution_count": 15,
   "metadata": {},
   "outputs": [],
   "source": [
    "## to print the upper case count and lower case count\n"
   ]
  },
  {
   "cell_type": "code",
   "execution_count": 25,
   "metadata": {},
   "outputs": [
    {
     "name": "stdout",
     "output_type": "stream",
     "text": [
      "4\n"
     ]
    }
   ],
   "source": [
    "## to print the no of lines in the file\n",
    "def linecount(filename):\n",
    "    f=open(filename,'r')\n",
    "    if f.mode=='r':\n",
    "        x=f.readlines()\n",
    "        print(len(x))\n",
    "    return \n",
    "linecount('file1.txt')    "
   ]
  },
  {
   "cell_type": "code",
   "execution_count": 31,
   "metadata": {},
   "outputs": [
    {
     "name": "stdout",
     "output_type": "stream",
     "text": [
      "7\n"
     ]
    }
   ],
   "source": [
    "## find the count of white spaces\n",
    "def spacecount(filename):\n",
    "    f=open(filename,'r')\n",
    "    if f.mode=='r':\n",
    "        x=f.read()\n",
    "        li=x.split('\\t')\n",
    "        print(len(li))\n",
    "    return \n",
    "spacecount('file1.txt') "
   ]
  },
  {
   "cell_type": "code",
   "execution_count": null,
   "metadata": {},
   "outputs": [],
   "source": []
  }
 ],
 "metadata": {
  "kernelspec": {
   "display_name": "Python 3",
   "language": "python",
   "name": "python3"
  },
  "language_info": {
   "codemirror_mode": {
    "name": "ipython",
    "version": 3
   },
   "file_extension": ".py",
   "mimetype": "text/x-python",
   "name": "python",
   "nbconvert_exporter": "python",
   "pygments_lexer": "ipython3",
   "version": "3.7.1"
  }
 },
 "nbformat": 4,
 "nbformat_minor": 2
}

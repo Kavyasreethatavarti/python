{
 "cells": [
  {
   "cell_type": "markdown",
   "metadata": {},
   "source": [
    "### Strings and its related examples\n",
    "- String: Sequence of characters\n",
    "- Python: character and string\n",
    "- ord(char): Represents the output in terms of ASCII number\n",
    "- chr(ord(char)): Represents the output in terms of character\n",
    "- ASCII numbers:\n",
    "    - A- Z: 65-90\n",
    "    - a-z: 97-122\n",
    "    - 0-9: 48-57\n",
    "    - space: 32"
   ]
  },
  {
   "cell_type": "code",
   "execution_count": 1,
   "metadata": {},
   "outputs": [
    {
     "name": "stdout",
     "output_type": "stream",
     "text": [
      "<class 'str'> <class 'str'>\n",
      "11\n",
      "97\n",
      "a\n"
     ]
    }
   ],
   "source": [
    "s1='a'\n",
    "s2='application'\n",
    "print(type(s1),type(s2))\n",
    "print(len(s2))\n",
    "print(ord(s1)) # convert char to ASCII number\n",
    "print(chr(97)) # convert ASCII number to char"
   ]
  },
  {
   "cell_type": "code",
   "execution_count": 2,
   "metadata": {},
   "outputs": [
    {
     "name": "stdout",
     "output_type": "stream",
     "text": [
      "Kavya\n",
      "K a v y a "
     ]
    }
   ],
   "source": [
    "s1=input()\n",
    "for i in range(len(s1)):\n",
    "    print(s1[i],end=' ')"
   ]
  },
  {
   "cell_type": "code",
   "execution_count": 3,
   "metadata": {},
   "outputs": [
    {
     "name": "stdout",
     "output_type": "stream",
     "text": [
      "kavya\n",
      "['k', 'a', 'v', 'y', 'a']\n"
     ]
    }
   ],
   "source": [
    "# converting string into a list\n",
    "l=[]\n",
    "s1=input()\n",
    "for i in range(len(s1)):\n",
    "    l.append(s1[i])\n",
    "print(l)"
   ]
  },
  {
   "cell_type": "code",
   "execution_count": 4,
   "metadata": {},
   "outputs": [
    {
     "name": "stdout",
     "output_type": "stream",
     "text": [
      "KavYaSRee\n",
      "Upper case count :4 Lower case count :5\n"
     ]
    }
   ],
   "source": [
    "# program to count the no of upper case and lower case letters\n",
    "l=[]\n",
    "s1=input()\n",
    "ucount=0\n",
    "lcount=0\n",
    "for i in range(len(s1)):\n",
    "    if ord(s1[i])>=65 and ord(s1[i])<=90:\n",
    "        ucount+=1\n",
    "    elif ord(s1[i])>=97 and ord(s1[i])<=122:\n",
    "        lcount+=1\n",
    "print(\"Upper case count :{0} Lower case count :{1}\".format(ucount,lcount))\n",
    "# print(\"Upper case count :{} Lower case count :{}\".format(ucount,lcount))"
   ]
  },
  {
   "cell_type": "code",
   "execution_count": 5,
   "metadata": {},
   "outputs": [
    {
     "data": {
      "text/plain": [
       "True"
      ]
     },
     "execution_count": 5,
     "metadata": {},
     "output_type": "execute_result"
    }
   ],
   "source": [
    "'a'.islower() # ord(s1[i])>=65 and ord(s1[i])<=90"
   ]
  },
  {
   "cell_type": "code",
   "execution_count": 6,
   "metadata": {},
   "outputs": [
    {
     "data": {
      "text/plain": [
       "False"
      ]
     },
     "execution_count": 6,
     "metadata": {},
     "output_type": "execute_result"
    }
   ],
   "source": [
    "'A'.islower()"
   ]
  },
  {
   "cell_type": "code",
   "execution_count": 7,
   "metadata": {},
   "outputs": [
    {
     "data": {
      "text/plain": [
       "False"
      ]
     },
     "execution_count": 7,
     "metadata": {},
     "output_type": "execute_result"
    }
   ],
   "source": [
    "'a'.isupper() # ord(s1[i])>=97 and ord(s1[i])<=122"
   ]
  },
  {
   "cell_type": "code",
   "execution_count": 8,
   "metadata": {},
   "outputs": [
    {
     "data": {
      "text/plain": [
       "True"
      ]
     },
     "execution_count": 8,
     "metadata": {},
     "output_type": "execute_result"
    }
   ],
   "source": [
    "'A'.isupper()"
   ]
  },
  {
   "cell_type": "code",
   "execution_count": 9,
   "metadata": {},
   "outputs": [
    {
     "name": "stdout",
     "output_type": "stream",
     "text": [
      "KavyASRee\n",
      "Upper case count :4 Lower case count :5\n"
     ]
    }
   ],
   "source": [
    "# program to count the no of upper case and lower case letters\n",
    "l=[]\n",
    "s1=input()\n",
    "ucount=0\n",
    "lcount=0\n",
    "for i in range(len(s1)):\n",
    "    if s1[i].isupper():\n",
    "        ucount+=1\n",
    "    elif s1[i].islower:\n",
    "        lcount+=1\n",
    "print(\"Upper case count :{0} Lower case count :{1}\".format(ucount,lcount))\n",
    "# print(\"Upper case count :{} Lower case count :{}\".format(ucount,lcount))"
   ]
  },
  {
   "cell_type": "code",
   "execution_count": 10,
   "metadata": {
    "collapsed": true
   },
   "outputs": [
    {
     "name": "stdout",
     "output_type": "stream",
     "text": [
      "['1', '8', '8', '9']\n",
      " count: 16\n"
     ]
    }
   ],
   "source": [
    "# app1ca8ti8on9 (1889)(8+8=16)\n",
    "# output: 16\n",
    "l=[]\n",
    "s1='app1ca8ti8on9'\n",
    "scount=0\n",
    "for i in range(len(s1)):\n",
    "    if ord(s1[i])>=48 and ord(s1[i])<=57:\n",
    "        l.append(s1[i])\n",
    "print(l)\n",
    "for i in l:\n",
    "    if(int(i)%2==0):\n",
    "        scount=scount+int(i)\n",
    "print(\" count:\",scount)"
   ]
  },
  {
   "cell_type": "code",
   "execution_count": 11,
   "metadata": {
    "collapsed": true
   },
   "outputs": [
    {
     "name": "stdout",
     "output_type": "stream",
     "text": [
      "count: 16\n"
     ]
    }
   ],
   "source": [
    "# app1ca8ti8on9 (1889)(8+8=16)\n",
    "# output: 16\n",
    "l=[]\n",
    "s1='app1ca8ti8on9'\n",
    "scount=0\n",
    "for i in range(len(s1)):\n",
    "    if s1[i].isdigit():\n",
    "        k=ord(s1[i])-48\n",
    "        if(k%2==0):\n",
    "            scount+=k\n",
    "print(\"count:\",scount)"
   ]
  },
  {
   "cell_type": "code",
   "execution_count": 12,
   "metadata": {
    "collapsed": true
   },
   "outputs": [
    {
     "ename": "IndentationError",
     "evalue": "expected an indented block (<ipython-input-12-e38496fe20ad>, line 10)",
     "output_type": "error",
     "traceback": [
      "\u001b[1;36m  File \u001b[1;32m\"<ipython-input-12-e38496fe20ad>\"\u001b[1;36m, line \u001b[1;32m10\u001b[0m\n\u001b[1;33m    print(\"Two digit count:{0} Three digit count{1}\".format(twocnt,thrcnt))\u001b[0m\n\u001b[1;37m                                                                           ^\u001b[0m\n\u001b[1;31mIndentationError\u001b[0m\u001b[1;31m:\u001b[0m expected an indented block\n"
     ]
    }
   ],
   "source": [
    "# Mobile123Needs21works45land87user342\n",
    "# output: 153(2 digits sum) 465(3 digits sum)\n",
    "l=[]\n",
    "s1='Mobile123Needs21works45land87user342'\n",
    "twocnt=0\n",
    "thrcnt=0\n",
    "for i in range(len(s1)):\n",
    "    if s1[i].isdigit():\n",
    "       \n",
    "print(\"Two digit count:{0} Three digit count{1}\".format(twocnt,thrcnt))"
   ]
  },
  {
   "cell_type": "code",
   "execution_count": 13,
   "metadata": {
    "collapsed": true
   },
   "outputs": [
    {
     "name": "stdout",
     "output_type": "stream",
     "text": [
      "12\n"
     ]
    }
   ],
   "source": [
    "s='12'\n",
    "x=int(s)\n",
    "print(x)"
   ]
  },
  {
   "cell_type": "code",
   "execution_count": 32,
   "metadata": {
    "collapsed": true
   },
   "outputs": [
    {
     "ename": "IndexError",
     "evalue": "string index out of range",
     "output_type": "error",
     "traceback": [
      "\u001b[1;31m---------------------------------------------------------------------------\u001b[0m",
      "\u001b[1;31mIndexError\u001b[0m                                Traceback (most recent call last)",
      "\u001b[1;32m<ipython-input-32-4ce89337e043>\u001b[0m in \u001b[0;36m<module>\u001b[1;34m\u001b[0m\n\u001b[0;32m     13\u001b[0m \u001b[1;32mfor\u001b[0m \u001b[0mi\u001b[0m \u001b[1;32min\u001b[0m \u001b[0mrange\u001b[0m\u001b[1;33m(\u001b[0m\u001b[0mlen\u001b[0m\u001b[1;33m(\u001b[0m\u001b[0ms1\u001b[0m\u001b[1;33m)\u001b[0m\u001b[1;33m-\u001b[0m\u001b[1;36m1\u001b[0m\u001b[1;33m)\u001b[0m\u001b[1;33m:\u001b[0m\u001b[1;33m\u001b[0m\u001b[1;33m\u001b[0m\u001b[0m\n\u001b[0;32m     14\u001b[0m     \u001b[1;32mwhile\u001b[0m \u001b[1;32mTrue\u001b[0m\u001b[1;33m:\u001b[0m\u001b[1;33m\u001b[0m\u001b[1;33m\u001b[0m\u001b[0m\n\u001b[1;32m---> 15\u001b[1;33m         \u001b[1;32mif\u001b[0m \u001b[0ms1\u001b[0m\u001b[1;33m[\u001b[0m\u001b[0mi\u001b[0m\u001b[1;33m]\u001b[0m\u001b[1;33m.\u001b[0m\u001b[0misdigit\u001b[0m\u001b[1;33m(\u001b[0m\u001b[1;33m)\u001b[0m\u001b[1;33m:\u001b[0m\u001b[1;33m\u001b[0m\u001b[1;33m\u001b[0m\u001b[0m\n\u001b[0m\u001b[0;32m     16\u001b[0m             \u001b[0mk\u001b[0m\u001b[1;33m=\u001b[0m\u001b[0mord\u001b[0m\u001b[1;33m(\u001b[0m\u001b[0ms1\u001b[0m\u001b[1;33m[\u001b[0m\u001b[0mi\u001b[0m\u001b[1;33m]\u001b[0m\u001b[1;33m)\u001b[0m\u001b[1;33m-\u001b[0m\u001b[1;36m48\u001b[0m\u001b[1;33m\u001b[0m\u001b[1;33m\u001b[0m\u001b[0m\n\u001b[0;32m     17\u001b[0m             \u001b[0mnum\u001b[0m\u001b[1;33m=\u001b[0m\u001b[1;33m(\u001b[0m\u001b[0mnum\u001b[0m\u001b[1;33m*\u001b[0m\u001b[1;36m10\u001b[0m\u001b[1;33m)\u001b[0m\u001b[1;33m+\u001b[0m\u001b[0mk\u001b[0m\u001b[1;33m\u001b[0m\u001b[1;33m\u001b[0m\u001b[0m\n",
      "\u001b[1;31mIndexError\u001b[0m: string index out of range"
     ]
    }
   ],
   "source": [
    "# Mobile123Needs21works45land87user342\n",
    "# output: 153(2 digits sum) 465(3 digits sum)\n",
    "def check(n):\n",
    "    cnt=0\n",
    "    while n!=0:\n",
    "        cnt+=1\n",
    "        n=n//10\n",
    "    return cnt\n",
    "num=0\n",
    "s1='Mobile123Needs21works45land87user342'\n",
    "final_sum=0\n",
    "final_x=0\n",
    "for i in range(len(s1)-1):\n",
    "    while True:\n",
    "        if s1[i].isdigit():\n",
    "            k=ord(s1[i])-48\n",
    "            num=(num*10)+k\n",
    "            i+=1\n",
    "        else:\n",
    "            break\n",
    "    if check(num)==2:\n",
    "        final_sum+=num\n",
    "    elif check(num)==3:\n",
    "        final_x+=num\n",
    "print('{} {}'.format(final_sum,final_x))         "
   ]
  },
  {
   "cell_type": "code",
   "execution_count": 26,
   "metadata": {},
   "outputs": [
    {
     "data": {
      "text/plain": [
       "10"
      ]
     },
     "execution_count": 26,
     "metadata": {},
     "output_type": "execute_result"
    }
   ],
   "source": [
    "# To check the no of digits \n",
    "def check(n):\n",
    "    cnt=0\n",
    "    while n!=0:\n",
    "        cnt+=1\n",
    "        n=n//10\n",
    "    return cnt\n",
    "check(1234567890)"
   ]
  },
  {
   "cell_type": "code",
   "execution_count": 1,
   "metadata": {},
   "outputs": [],
   "source": [
    "# password Encryption Format -128 bytes(Manual Encryption)\n",
    "# Not special characters and digits\n",
    "#Input:-\n",
    "# Abcd Aabc aabc\n",
    "# ABCD AABCDE AABC\n",
    "#Output:-\n",
    "# !@@!!!@@@@\n",
    "# !@!!@@@!!!!@@@@@\n",
    "# !@!!@@@"
   ]
  },
  {
   "cell_type": "code",
   "execution_count": 9,
   "metadata": {},
   "outputs": [
    {
     "name": "stdout",
     "output_type": "stream",
     "text": [
      "aabcd\n",
      "!@!!@@@!!!!"
     ]
    }
   ],
   "source": [
    "s=input()\n",
    "ch='!'\n",
    "s=s.upper() # upper case characters\n",
    "for i in range(len(s)):\n",
    "    if ord(s[i])!= 32:\n",
    "        k=ord(s[i])-64\n",
    "        for j in range(k):\n",
    "            print(ch,end='')\n",
    "        if ch=='!':\n",
    "            ch='@'\n",
    "        else:\n",
    "            ch='!'\n",
    "    else:\n",
    "        print()\n",
    "        ch='!'"
   ]
  },
  {
   "cell_type": "markdown",
   "metadata": {},
   "source": [
    "#### Input: \n",
    "   1A2B3C4D\n",
    "#### Output:\n",
    "   ABBCCCDDDD"
   ]
  },
  {
   "cell_type": "code",
   "execution_count": 13,
   "metadata": {},
   "outputs": [
    {
     "name": "stdout",
     "output_type": "stream",
     "text": [
      "ABBCCC"
     ]
    }
   ],
   "source": [
    "s='1a2b3c'\n",
    "s=s.upper()\n",
    "for i in range(0,len(s),2):\n",
    "    print(s[i+1]*int(s[i]),end='')"
   ]
  },
  {
   "cell_type": "markdown",
   "metadata": {},
   "source": [
    "### OOPS in python\n",
    "- Class: Collection of data members and member functions into single unit is called class\n",
    "    - Data Members: variables list tuple list\n",
    "    - Member functions: Methods and constructors\n",
    "    - Class is logical entity it means when create a class it does not access the memory\n",
    "- Object: Instance or physical entity \n",
    "- Inheritance"
   ]
  },
  {
   "cell_type": "code",
   "execution_count": null,
   "metadata": {},
   "outputs": [],
   "source": [
    "class Demo: # class definition\n",
    "    x=10 #variable\n",
    "    def test(): # method\n",
    "        return "
   ]
  },
  {
   "cell_type": "code",
   "execution_count": 22,
   "metadata": {},
   "outputs": [],
   "source": [
    "class Demo: \n",
    "    global x\n",
    "    def acceptNumber():\n",
    "        x=int(input(\"enter the number\"))\n",
    "        return\n",
    "    def displayNumber():\n",
    "        print(x)\n",
    "        return"
   ]
  },
  {
   "cell_type": "code",
   "execution_count": null,
   "metadata": {},
   "outputs": [],
   "source": []
  }
 ],
 "metadata": {
  "kernelspec": {
   "display_name": "Python 3",
   "language": "python",
   "name": "python3"
  },
  "language_info": {
   "codemirror_mode": {
    "name": "ipython",
    "version": 3
   },
   "file_extension": ".py",
   "mimetype": "text/x-python",
   "name": "python",
   "nbconvert_exporter": "python",
   "pygments_lexer": "ipython3",
   "version": "3.7.1"
  }
 },
 "nbformat": 4,
 "nbformat_minor": 2
}

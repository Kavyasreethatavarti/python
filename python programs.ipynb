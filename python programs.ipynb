{
 "cells": [
  {
   "cell_type": "markdown",
   "metadata": {},
   "source": [
    "## 05/01/2020"
   ]
  },
  {
   "cell_type": "markdown",
   "metadata": {},
   "source": [
    "## Factorial of a number\n",
    "\n",
    "- Input:\n",
    "     - enter the number: 4\n",
    "- Output:\n",
    "     - Factorial is 24"
   ]
  },
  {
   "cell_type": "code",
   "execution_count": 9,
   "metadata": {},
   "outputs": [
    {
     "name": "stdout",
     "output_type": "stream",
     "text": [
      "enter the number4\n",
      "factorial is  24\n"
     ]
    }
   ],
   "source": [
    "n=int(input(\"enter the number\"))\n",
    "fact=1\n",
    "i=1\n",
    "while(i<=n):\n",
    "    fact=fact*i\n",
    "    i=i+1\n",
    "print(\"factorial is \",fact)\n",
    "    "
   ]
  },
  {
   "cell_type": "markdown",
   "metadata": {},
   "source": [
    "## Largest of 2 numbers\n",
    "- Input:\n",
    "    - enter a value:10\n",
    "    - enter b value:20\n",
    "- Output:\n",
    "    - b is largest"
   ]
  },
  {
   "cell_type": "code",
   "execution_count": 2,
   "metadata": {},
   "outputs": [
    {
     "name": "stdout",
     "output_type": "stream",
     "text": [
      "enter a value10\n",
      "enter b value20\n",
      "b is largest\n"
     ]
    }
   ],
   "source": [
    "a =int(input(\"enter a value\"))\n",
    "b=int(input(\"enter b value\"))\n",
    "if a>b:\n",
    "    print(\"a is largest\")\n",
    "else:\n",
    "    print(\"b is largest\")"
   ]
  },
  {
   "cell_type": "markdown",
   "metadata": {},
   "source": [
    "## Largest of 3 numbers\n",
    "- Input:\n",
    "    - enter a value:10\n",
    "    - enter b value:20\n",
    "    - enter c value:30\n",
    "- Output:\n",
    "    - c is largest"
   ]
  },
  {
   "cell_type": "code",
   "execution_count": 3,
   "metadata": {},
   "outputs": [
    {
     "name": "stdout",
     "output_type": "stream",
     "text": [
      "enter a value30\n",
      "enter b value20\n",
      "enter c value40\n",
      "c is largest\n"
     ]
    }
   ],
   "source": [
    "a =int(input(\"enter a value\"))\n",
    "b=int(input(\"enter b value\"))\n",
    "c=int(input(\"enter c value\"))\n",
    "if a>b and a>c:\n",
    "    print(\"a is largest\")\n",
    "elif b>c:\n",
    "    print(\"b is largest\")\n",
    "else:\n",
    "    print(\"c is largest\")\n"
   ]
  },
  {
   "cell_type": "markdown",
   "metadata": {},
   "source": [
    "## Area of circle\n",
    "- Input:\n",
    "    - enter the radius:3.6\n",
    "- Output:\n",
    "    - Area of circle is: 40.6944"
   ]
  },
  {
   "cell_type": "code",
   "execution_count": 4,
   "metadata": {},
   "outputs": [
    {
     "name": "stdout",
     "output_type": "stream",
     "text": [
      "enter the radius3.6\n",
      "Area of circle is  40.6944\n"
     ]
    }
   ],
   "source": [
    "r=float(input(\"enter the radius\"))\n",
    "area=3.14*r*r\n",
    "print(\"Area of circle is \",area)"
   ]
  },
  {
   "cell_type": "markdown",
   "metadata": {},
   "source": [
    "## Area of triangle\n",
    "- Input:\n",
    "    - enter the base:5\n",
    "    - enter the height:7.8\n",
    "- Output:\n",
    "     - Area of traingle is 19"
   ]
  },
  {
   "cell_type": "code",
   "execution_count": 3,
   "metadata": {},
   "outputs": [
    {
     "name": "stdout",
     "output_type": "stream",
     "text": [
      "enter the base5\n",
      "enter the height7.8\n",
      "Area of triangle is  19.5\n"
     ]
    }
   ],
   "source": [
    "b=float(input(\"enter the base\"))\n",
    "h=float(input(\"enter the height\"))\n",
    "area=0.5*b*h\n",
    "print(\"Area of triangle is \",area)"
   ]
  },
  {
   "cell_type": "markdown",
   "metadata": {},
   "source": [
    "## Squareroot of a number\n",
    "- Input:\n",
    "    - enter the number :36\n",
    "- Output:\n",
    "    - square root is 6.0"
   ]
  },
  {
   "cell_type": "code",
   "execution_count": 7,
   "metadata": {},
   "outputs": [
    {
     "name": "stdout",
     "output_type": "stream",
     "text": [
      "enter the number45\n",
      "square root is  6.708203932499369\n"
     ]
    }
   ],
   "source": [
    "import math\n",
    "n=int(input(\"enter the number\"))\n",
    "print(\"square root is \",math.sqrt(n))\n"
   ]
  },
  {
   "cell_type": "markdown",
   "metadata": {},
   "source": [
    "## Factors of a number\n",
    "- Input:\n",
    "    - enter the number:6\n",
    "- Output:\n",
    "    - The factors are:\n",
    "       - 1\n",
    "       - 2\n",
    "       - 3\n",
    "   "
   ]
  },
  {
   "cell_type": "code",
   "execution_count": 1,
   "metadata": {},
   "outputs": [
    {
     "name": "stdout",
     "output_type": "stream",
     "text": [
      "enter the number6\n",
      "the factors are\n",
      "1\n",
      "2\n",
      "3\n"
     ]
    }
   ],
   "source": [
    "n=int(input(\"enter the number\"))\n",
    "i=1\n",
    "print(\"the factors are\")\n",
    "while(i<n):\n",
    "    if(n%i==0):\n",
    "        print(i)\n",
    "    i=i+1"
   ]
  },
  {
   "cell_type": "markdown",
   "metadata": {},
   "source": [
    "## Even or Odd number\n",
    "- Input:\n",
    "    - enter the number:6\n",
    "- Output:\n",
    "    - the number is even"
   ]
  },
  {
   "cell_type": "code",
   "execution_count": 9,
   "metadata": {},
   "outputs": [
    {
     "name": "stdout",
     "output_type": "stream",
     "text": [
      "enter the number6\n",
      "even\n"
     ]
    }
   ],
   "source": [
    "n=int(input(\"enter the number\"))\n",
    "if(n%2==0):\n",
    "    print(\"even\")\n",
    "else:\n",
    "    print(\"odd\")"
   ]
  },
  {
   "cell_type": "markdown",
   "metadata": {},
   "source": [
    "## Divisibility\n",
    "- Input:\n",
    "    - enter the number:8\n",
    "- Output:\n",
    "    - Number divisible by 2 & 3 &"
   ]
  },
  {
   "cell_type": "code",
   "execution_count": 11,
   "metadata": {},
   "outputs": [
    {
     "name": "stdout",
     "output_type": "stream",
     "text": [
      "enter the number8\n",
      "number is divisible by 2 & 3 & 4\n"
     ]
    }
   ],
   "source": [
    "n=i\n",
    "nt(input(\"enter the number\"))\n",
    "if(n%2==0 and n%3==0):\n",
    "    if(n%4!=0):\n",
    "        print(\"number divisible by 2 & 3 but not with 4\")\n",
    "    else:\n",
    "        print(\"number divisible by 2  & 3 & 4\")\n",
    "else:\n",
    "    print(\"number is divisible by 2 & 3 & 4\")"
   ]
  },
  {
   "cell_type": "markdown",
   "metadata": {},
   "source": [
    "## print numbers using loop\n",
    "- Input:\n",
    "    - enter the number:10\n",
    "- Output:\n",
    "    - 1\n",
    "    - 2\n",
    "    - 3\n",
    "    - 4\n",
    "    - 5\n",
    "    - 6\n",
    "    - 7\n",
    "    - 8\n",
    "    - 9\n",
    "    - 10"
   ]
  },
  {
   "cell_type": "code",
   "execution_count": 12,
   "metadata": {},
   "outputs": [
    {
     "name": "stdout",
     "output_type": "stream",
     "text": [
      "enter the number10\n",
      "1\n",
      "2\n",
      "3\n",
      "4\n",
      "5\n",
      "6\n",
      "7\n",
      "8\n",
      "9\n",
      "10\n"
     ]
    }
   ],
   "source": [
    "n=int(input(\"enter the number \"))\n",
    "i=1\n",
    "while(i<=n):\n",
    "    print(i)\n",
    "    i=i+1"
   ]
  },
  {
   "cell_type": "markdown",
   "metadata": {},
   "source": [
    "## print even numbers using loop\n",
    "- Input:\n",
    "    - enter the number:10\n",
    "- Output:\n",
    "    - 2\n",
    "    - 4\n",
    "    - 6\n",
    "    - 8\n",
    "    - 10"
   ]
  },
  {
   "cell_type": "code",
   "execution_count": 13,
   "metadata": {},
   "outputs": [
    {
     "name": "stdout",
     "output_type": "stream",
     "text": [
      "enter the number10\n",
      "2\n",
      "4\n",
      "6\n",
      "8\n",
      "10\n"
     ]
    }
   ],
   "source": [
    "n=int(input(\"enter the number \"))\n",
    "i=1\n",
    "while(i<=n):\n",
    "    if(i%2==0):\n",
    "        print(i)\n",
    "    i=i+1"
   ]
  },
  {
   "cell_type": "markdown",
   "metadata": {},
   "source": [
    "## To check the number is armstrong or not\n",
    "- Input:\n",
    "    - enter the number:153\n",
    "- Output:\n",
    "    - 153 is an Armstrong number"
   ]
  },
  {
   "cell_type": "code",
   "execution_count": 6,
   "metadata": {},
   "outputs": [
    {
     "name": "stdout",
     "output_type": "stream",
     "text": [
      "Enter a number: 145\n",
      "145 is not an Armstrong number\n"
     ]
    }
   ],
   "source": [
    "# Number equal to its sum of power of their digits of  given number\n",
    "# Ex: 153= (1*1*1)+(5*5*5)+(3*3*3)  \n",
    "num = int(input(\"Enter a number: \"))\n",
    "sum = 0\n",
    "temp = num\n",
    "while temp > 0:\n",
    "   digit = temp % 10\n",
    "   sum += digit ** 3\n",
    "   temp //= 10\n",
    "if num == sum:\n",
    "   print(num,\"is an Armstrong number\")\n",
    "else:\n",
    "   print(num,\"is not an Armstrong number\")\n"
   ]
  },
  {
   "cell_type": "markdown",
   "metadata": {},
   "source": [
    "## To check the number is perfect or not\n",
    "- Input:\n",
    "    - enter the number:6\n",
    "- Output:\n",
    "    - The number is a perfect number"
   ]
  },
  {
   "cell_type": "code",
   "execution_count": 15,
   "metadata": {},
   "outputs": [
    {
     "name": "stdout",
     "output_type": "stream",
     "text": [
      "Enter any number: 6\n",
      "The number is a Perfect number!\n"
     ]
    }
   ],
   "source": [
    "#Number that is equal to the sum of its proper divisors.\n",
    "# Ex: 6= (1+2+3) \n",
    "\n",
    "n = int(input(\"Enter the number: \"))\n",
    "sum1 = 0\n",
    "for i in range(1, n):\n",
    "    if(n % i == 0):\n",
    "        sum1 = sum1 + i\n",
    "if (sum1 == n):\n",
    "    print(\"The number is a Perfect number!\")\n",
    "else:\n",
    "    print(\"The number is not a Perfect number!\")"
   ]
  },
  {
   "cell_type": "markdown",
   "metadata": {},
   "source": [
    "## To check the number is strong or not\n",
    "- Input:\n",
    "    - enter the number:145\n",
    "- Output:\n",
    "    - The number is a strong number"
   ]
  },
  {
   "cell_type": "code",
   "execution_count": 16,
   "metadata": {},
   "outputs": [
    {
     "name": "stdout",
     "output_type": "stream",
     "text": [
      "Enter a number:145\n",
      "The number is a strong number\n"
     ]
    }
   ],
   "source": [
    "# Number whose sum of factorial of digits is equal to the original number.\n",
    "# EX: 145 = 1!+4!+5!\n",
    "\n",
    "sum1=0\n",
    "num=int(input(\"Enter a number:\"))\n",
    "temp=num\n",
    "while(num):\n",
    "    i=1\n",
    "    f=1\n",
    "    r=num%10\n",
    "    while(i<=r):\n",
    "        f=f*i\n",
    "        i=i+1\n",
    "    sum1=sum1+f\n",
    "    num=num//10\n",
    "if(sum1==temp):\n",
    "    print(\"The number is a strong number\")\n",
    "else:\n",
    "    print(\"The number is not a strong number\")"
   ]
  },
  {
   "cell_type": "markdown",
   "metadata": {},
   "source": [
    "## To check the number is positive ,negative or zero\n",
    "- Input:\n",
    "    - enter the number:6\n",
    "- Output:\n",
    "    - positive number"
   ]
  },
  {
   "cell_type": "code",
   "execution_count": 17,
   "metadata": {},
   "outputs": [
    {
     "name": "stdout",
     "output_type": "stream",
     "text": [
      "enter the number-6\n",
      "negative number\n"
     ]
    }
   ],
   "source": [
    "n=int(input(\"enter the number\"))\n",
    "if(n>0):\n",
    "  print(\"positive number\")\n",
    "elif(n<0):\n",
    "  print(\"negative number\")\n",
    "else:\n",
    "  print(\"zero\")"
   ]
  },
  {
   "cell_type": "markdown",
   "metadata": {},
   "source": [
    "## To check the number is palindrome or not\n",
    "- Input:\n",
    "    - enter the number:151\n",
    "- Output:\n",
    "    - palindrome"
   ]
  },
  {
   "cell_type": "code",
   "execution_count": 18,
   "metadata": {},
   "outputs": [
    {
     "name": "stdout",
     "output_type": "stream",
     "text": [
      "enter the number141\n",
      "palindrome\n"
     ]
    }
   ],
   "source": [
    "n=int(input(\"enter the number\"))\n",
    "rev=0\n",
    "temp=n\n",
    "while(n!=0):\n",
    "  rev=rev*10+(n%10)\n",
    "  n=n//10\n",
    "if(temp==rev):\n",
    "  print(\"palindrome\")\n",
    "else:\n",
    "  print(\"not palindrome\")"
   ]
  },
  {
   "cell_type": "markdown",
   "metadata": {},
   "source": [
    "## To check the number is prime or not\n",
    "- Input:\n",
    "    - enter the number:23\n",
    "- Output:\n",
    "    - 23 is a prime number"
   ]
  },
  {
   "cell_type": "code",
   "execution_count": 19,
   "metadata": {},
   "outputs": [
    {
     "name": "stdout",
     "output_type": "stream",
     "text": [
      "enter the number25\n",
      "25 is not a prime number\n"
     ]
    }
   ],
   "source": [
    "n=int(input(\"enter the number\"))\n",
    "if n > 1:\n",
    "   for i in range(2,n):\n",
    "       if (n % i) == 0:\n",
    "           print(n,\"is not a prime number\")\n",
    "           break\n",
    "   else:\n",
    "       print(n,\"is a prime number\")\n",
    "else:\n",
    "   print(n,\"is not a prime number\")"
   ]
  },
  {
   "cell_type": "markdown",
   "metadata": {},
   "source": [
    "## To print the number of primes between certain range\n",
    "- Input:\n",
    "    - enter lower limit:10\n",
    "    - enter upper limit:20\n",
    "- Output:\n",
    "    - prime numbers are\n",
    "       - 11\n",
    "       - 13\n",
    "       - 17\n",
    "       - 19"
   ]
  },
  {
   "cell_type": "code",
   "execution_count": 20,
   "metadata": {},
   "outputs": [
    {
     "name": "stdout",
     "output_type": "stream",
     "text": [
      "enter lower limit10\n",
      "enter upper limit20\n",
      "Prime numbers are:\n",
      "11\n",
      "13\n",
      "17\n",
      "19\n"
     ]
    }
   ],
   "source": [
    "l = int(input(\"enter lower limit\"))\n",
    "u = int(input(\"enter upper limit\"))\n",
    "print(\"Prime numbers are:\")\n",
    "for num in range(l, u + 1):\n",
    "   if num > 1:\n",
    "       for i in range(2, num):\n",
    "           if (num % i) == 0:\n",
    "               break\n",
    "       else:\n",
    "           print(num)"
   ]
  },
  {
   "cell_type": "markdown",
   "metadata": {},
   "source": [
    "## To print the reverse of a number\n",
    "- Input:\n",
    "    - enter the number:143\n",
    "- Output:\n",
    "    - Reverse of a number: 4321"
   ]
  },
  {
   "cell_type": "code",
   "execution_count": 21,
   "metadata": {},
   "outputs": [
    {
     "name": "stdout",
     "output_type": "stream",
     "text": [
      "enter the number1234\n",
      "reverse of a number  4321\n"
     ]
    }
   ],
   "source": [
    "n=int(input(\"enter the number\"))\n",
    "rev=0\n",
    "while(n!=0):\n",
    "  rev=rev*10+(n%10)\n",
    "  n=n//10\n",
    "print(\"reverse of a number \",rev)"
   ]
  },
  {
   "cell_type": "markdown",
   "metadata": {},
   "source": [
    "## To print the sum of natural numbers\n",
    "- Input:\n",
    "    - enter the number:5\n",
    "- Output:\n",
    "    - sum of natural numbers is 15"
   ]
  },
  {
   "cell_type": "code",
   "execution_count": 22,
   "metadata": {},
   "outputs": [
    {
     "name": "stdout",
     "output_type": "stream",
     "text": [
      "enter the number5\n",
      "sum of natural numbers is  15\n"
     ]
    }
   ],
   "source": [
    "n=int(input(\"enter the number\"))\n",
    "i=1\n",
    "sum=0\n",
    "while(i<=n):\n",
    "  sum=sum+i\n",
    "  i=i+1\n",
    "print(\"sum of natural numbers is \",sum)"
   ]
  },
  {
   "cell_type": "markdown",
   "metadata": {},
   "source": [
    "## To print the multiplication table\n",
    "- Input:\n",
    "    - enter the number:3\n",
    "- Output:\n",
    "    - 3 * 1 = 3\n",
    "    - 3 * 2 = 6\n",
    "    - 3 * 3 = 9\n",
    "    - 3 * 4 = 12\n",
    "    - 3 * 5 = 15\n",
    "    - 3 * 6 = 18\n",
    "    - 3 * 7 = 21\n",
    "    - 3 * 8 = 24\n",
    "    - 3 * 9 = 27\n",
    "    - 3* 10 = 30"
   ]
  },
  {
   "cell_type": "code",
   "execution_count": 23,
   "metadata": {},
   "outputs": [
    {
     "name": "stdout",
     "output_type": "stream",
     "text": [
      "enter the number3\n",
      "3 * 1 = 3\n",
      "3 * 2 = 6\n",
      "3 * 3 = 9\n",
      "3 * 4 = 12\n",
      "3 * 5 = 15\n",
      "3 * 6 = 18\n",
      "3 * 7 = 21\n",
      "3 * 8 = 24\n",
      "3 * 9 = 27\n",
      "3 * 10 = 30\n"
     ]
    }
   ],
   "source": [
    "n=int(input(\"enter the number\"))\n",
    "i=1\n",
    "while(i<=10):\n",
    "  print(n,\"*\",i,\"=\",n*i)\n",
    "  i=i+1"
   ]
  },
  {
   "cell_type": "markdown",
   "metadata": {},
   "source": [
    "## To print the table with ranges\n",
    "- Input\n",
    "    - enter the number:3\n",
    "    - enter the lower limit:5\n",
    "    - enter the upper limit:9\n",
    "- Output:\n",
    "    - 3 * 5 = 15\n",
    "    - 3 * 6 = 18\n",
    "    - 3 * 7 = 21\n",
    "    - 3 * 8 = 24\n",
    "    - 3 * 9 = 27"
   ]
  },
  {
   "cell_type": "code",
   "execution_count": 24,
   "metadata": {},
   "outputs": [
    {
     "name": "stdout",
     "output_type": "stream",
     "text": [
      "enter the number3\n",
      "enter the lower limit5\n",
      "enter the upper limit9\n",
      "3 * 5 = 15\n",
      "3 * 6 = 18\n",
      "3 * 7 = 21\n",
      "3 * 8 = 24\n",
      "3 * 9 = 27\n"
     ]
    }
   ],
   "source": [
    "n=int(input(\"enter the number\"))\n",
    "l=int(input(\"enter the lower limit\"))\n",
    "u=int(input(\"enter the upper limit\"))\n",
    "i=0\n",
    "while(l<=u):\n",
    "  i=n*l\n",
    "  print(n,\"*\",l,\"=\",i)\n",
    "  l=l+1\n"
   ]
  },
  {
   "cell_type": "markdown",
   "metadata": {},
   "source": [
    "### program to check if either of the two values is equal to 10 or sum iis equal to 10\n",
    "- Input\n",
    "     - enter a value:5\n",
    "     - enter b value:5\n",
    "- Output:\n",
    "     - true"
   ]
  },
  {
   "cell_type": "code",
   "execution_count": 25,
   "metadata": {},
   "outputs": [
    {
     "name": "stdout",
     "output_type": "stream",
     "text": [
      "enter a value5\n",
      "enter b value5\n",
      "True\n"
     ]
    }
   ],
   "source": [
    "# Example\n",
    "a=int(input(\"enter a value\"))\n",
    "b=int(input(\"enter b value\"))\n",
    "if(a==10 or b==10 or a+b==10):\n",
    "  print(\"True\")\n",
    "else:\n",
    "  print(\"false\")"
   ]
  },
  {
   "cell_type": "markdown",
   "metadata": {},
   "source": [
    "## To check the person is eligible to vote or not\n",
    "- Input\n",
    "    - enter the age:40\n",
    "- Output:\n",
    "    - Eligible to vote"
   ]
  },
  {
   "cell_type": "code",
   "execution_count": 26,
   "metadata": {},
   "outputs": [
    {
     "name": "stdout",
     "output_type": "stream",
     "text": [
      "enter the age40\n",
      "eligible to vote\n"
     ]
    }
   ],
   "source": [
    "age=int(input(\"enter the age\"))\n",
    "if(age>=18 and age<=85):\n",
    "  print(\"eligible to vote\")\n",
    "else:\n",
    "  print(\"not eligible to vote\")"
   ]
  },
  {
   "cell_type": "markdown",
   "metadata": {},
   "source": [
    "## To check the number of palindromes between certain range\n",
    "- Input\n",
    "    - enter the lower limit:10\n",
    "    - enter the upper limit:30\n",
    "- Output:\n",
    "    - The palindrome numbers are\n",
    "    - 11 22"
   ]
  },
  {
   "cell_type": "code",
   "execution_count": 1,
   "metadata": {},
   "outputs": [
    {
     "name": "stdout",
     "output_type": "stream",
     "text": [
      "Enter the lower limit : 10\n",
      "Enter the upper limit30\n",
      "Palindrome Numbers are\n",
      "11   22   "
     ]
    }
   ],
   "source": [
    "min=int(input(\"Enter the lower limit : \"))\n",
    "max=int(input(\"Enter the upper limit\"))\n",
    "\n",
    "print(\"Palindrome Numbers are\")\n",
    "for num in range(min, max+ 1):\n",
    "    temp = num\n",
    "    reverse = 0\n",
    "    \n",
    "    while(temp > 0):\n",
    "        Reminder = temp % 10\n",
    "        reverse = (reverse * 10) + Reminder\n",
    "        temp = temp //10\n",
    "\n",
    "    if(num == reverse):\n",
    "        print(\"%d \" %num, end = '  ')\n"
   ]
  },
  {
   "cell_type": "markdown",
   "metadata": {},
   "source": [
    "## to print maximum element dynamically\n",
    "- Input\n",
    "    - enter number of elements:4\n",
    "    - enter element:40\n",
    "    - enter element:50\n",
    "    - enter element:10\n",
    "    - enter element:20\n",
    "- Output:\n",
    "    - Maximum element is 50"
   ]
  },
  {
   "cell_type": "code",
   "execution_count": 15,
   "metadata": {},
   "outputs": [
    {
     "name": "stdout",
     "output_type": "stream",
     "text": [
      "Enter number of elements:3\n",
      "Enter element:30\n",
      "Enter element:10\n",
      "Enter element:20\n",
      "maximum element is  30\n"
     ]
    }
   ],
   "source": [
    "list=[]\n",
    "n=int(input(\"Enter number of elements:\"))\n",
    "for i in range(0,n):\n",
    "    ele=int(input(\"Enter element:\"))\n",
    "    list.append(ele)\n",
    "maxi=list[0]\n",
    "for i in range(0,n):\n",
    "    if(maxi < list[i]):\n",
    "        maxi=list[i]\n",
    "print(\"maximum element is \",maxi)\n"
   ]
  },
  {
   "cell_type": "markdown",
   "metadata": {},
   "source": [
    "## to print minimum element dynamically\n",
    "- Input\n",
    "    - enter number of elements:4\n",
    "    - enter element:40\n",
    "    - enter element:50\n",
    "    - enter element:10\n",
    "    - enter element:20\n",
    "- Output:\n",
    "    - Minimum element is 10"
   ]
  },
  {
   "cell_type": "code",
   "execution_count": 16,
   "metadata": {},
   "outputs": [
    {
     "name": "stdout",
     "output_type": "stream",
     "text": [
      "Enter number of elements:4\n",
      "Enter element:40\n",
      "Enter element:50\n",
      "Enter element:10\n",
      "Enter element:20\n",
      "minimum element is  10\n"
     ]
    }
   ],
   "source": [
    "list=[]\n",
    "n=int(input(\"Enter number of elements:\"))\n",
    "for i in range(0,n):\n",
    "    ele=int(input(\"Enter element:\"))\n",
    "    list.append(ele)\n",
    "mini=list[0]\n",
    "for i in range(0,n):\n",
    "    if(mini > list[i]):\n",
    "        mini=list[i]\n",
    "print(\"minimum element is \",mini)"
   ]
  },
  {
   "cell_type": "markdown",
   "metadata": {},
   "source": [
    "## 06/01/2020"
   ]
  },
  {
   "cell_type": "markdown",
   "metadata": {},
   "source": [
    "##  To create list by concatenating a given list which range  from 1 to n\n",
    "- Input:\n",
    "     - 2\n",
    "- Output:\n",
    "     - ['a1','b1','a2','b2']"
   ]
  },
  {
   "cell_type": "code",
   "execution_count": 3,
   "metadata": {},
   "outputs": [
    {
     "name": "stdout",
     "output_type": "stream",
     "text": [
      "4\n",
      "['a1', 'b1', 'a2', 'b2', 'a3', 'b3', 'a4', 'b4']\n"
     ]
    }
   ],
   "source": [
    "n=int(input())\n",
    "l=['a','b']\n",
    "l1=[]\n",
    "for i in range(1,n+1):\n",
    "    for j in range(0,len(l)):\n",
    "        l1.append(l[j]+str(i))\n",
    "print(l1)"
   ]
  },
  {
   "cell_type": "markdown",
   "metadata": {},
   "source": [
    "## To calculate the frequency of each element in the list\n",
    "- Input:\n",
    "    - enter number of elements:5\n",
    "    - enter element:30\n",
    "    - enter element:20\n",
    "    - enter element:30\n",
    "    - enter element:30\n",
    "    - enter element:10\n",
    "- Output:\n",
    "    - 30->2\n",
    "    - 20->1\n",
    "    - 10->1"
   ]
  },
  {
   "cell_type": "code",
   "execution_count": 4,
   "metadata": {},
   "outputs": [
    {
     "name": "stdout",
     "output_type": "stream",
     "text": [
      "Enter number of elements:5\n",
      "Enter element:30\n",
      "Enter element:20\n",
      "Enter element:30\n",
      "Enter element:30\n",
      "Enter element:10\n",
      "30 ->  3\n",
      "20 ->  1\n",
      "10 ->  1\n"
     ]
    }
   ],
   "source": [
    "list=[]\n",
    "n=int(input(\"Enter number of elements:\"))\n",
    "for i in range(0,n):\n",
    "    ele=int(input(\"Enter element:\"))\n",
    "    list.append(ele)\n",
    "frequency = {}\n",
    "for item in list:\n",
    "   if (item in frequency):\n",
    "      frequency[item] += 1\n",
    "   else:\n",
    "      frequency[item] = 1\n",
    "for key, value in frequency.items():\n",
    "   print(\"% s -> % d\" % (key, value))\n"
   ]
  },
  {
   "cell_type": "markdown",
   "metadata": {},
   "source": [
    "## No of non-prime factors\n",
    "- Input:\n",
    "    - enter a number:100\n",
    "- Output:\n",
    "    - 2,4,5,25\n",
    "    - 2"
   ]
  },
  {
   "cell_type": "code",
   "execution_count": 1,
   "metadata": {},
   "outputs": [
    {
     "name": "stdout",
     "output_type": "stream",
     "text": [
      "enter a number 100\n",
      "[2, 4, 5, 25]\n",
      "2\n"
     ]
    }
   ],
   "source": [
    "def prime1(n):\n",
    "    count=0\n",
    "    for i in range(1,n):\n",
    "        if(n%i==0):\n",
    "            count=count+1\n",
    "    if(count==1):\n",
    "        return 1\n",
    "    else:\n",
    "        return 0\n",
    "def factors(n):\n",
    "    count=0\n",
    "    list=[]\n",
    "    for i in range(2,n+1):\n",
    "        if(n%i==0 and i%10):\n",
    "            list.append(i)\n",
    "    print(list)\n",
    "    for i in list:\n",
    "        x=prime1(i)\n",
    "        if(x==0):\n",
    "            count=count+1\n",
    "    print(count)\n",
    "n=int(input(\"enter a number \"))\n",
    "factors(n)"
   ]
  },
  {
   "cell_type": "markdown",
   "metadata": {},
   "source": [
    "### 08/01/2020"
   ]
  },
  {
   "cell_type": "markdown",
   "metadata": {},
   "source": [
    "### To print the Armstrong numbers with in range\n",
    "- Input:\n",
    "    - Enter lower limit: 1\n",
    "    - Enter upper limit: 500\n",
    "- Output:\n",
    "    - The Armstrong numbers are\n",
    "        - 153\n",
    "        - 370\n",
    "        - 371\n",
    "        - 407"
   ]
  },
  {
   "cell_type": "code",
   "execution_count": 8,
   "metadata": {},
   "outputs": [
    {
     "name": "stdout",
     "output_type": "stream",
     "text": [
      "Enter lower limit: 100\n",
      "Enter upper limit: 500\n",
      "The Armstrong numbers are\n",
      "153\n",
      "370\n",
      "371\n",
      "407\n"
     ]
    }
   ],
   "source": [
    "l= int(input(\"Enter lower limit: \"))\n",
    "u= int(input(\"Enter upper limit: \"))\n",
    "print(\"The Armstrong numbers are\")\n",
    "for num in range(l,u + 1):\n",
    "    sum = 0\n",
    "    temp = num\n",
    "    while temp > 0:\n",
    "        digit = temp % 10\n",
    "        sum += digit ** 3\n",
    "        temp //= 10\n",
    " \n",
    "    if(num == sum):\n",
    "        print(num)"
   ]
  },
  {
   "cell_type": "code",
   "execution_count": null,
   "metadata": {},
   "outputs": [],
   "source": []
  }
 ],
 "metadata": {
  "kernelspec": {
   "display_name": "Python 3",
   "language": "python",
   "name": "python3"
  },
  "language_info": {
   "codemirror_mode": {
    "name": "ipython",
    "version": 3
   },
   "file_extension": ".py",
   "mimetype": "text/x-python",
   "name": "python",
   "nbconvert_exporter": "python",
   "pygments_lexer": "ipython3",
   "version": "3.7.1"
  }
 },
 "nbformat": 4,
 "nbformat_minor": 2
}
